{
 "cells": [
  {
   "cell_type": "code",
   "execution_count": null,
   "metadata": {},
   "outputs": [],
   "source": [
    "import pandas as pd\n",
    "import io\n",
    "import re\n",
    "import math\n",
    "import numpy as np"
   ]
  },
  {
   "cell_type": "code",
   "execution_count": null,
   "metadata": {},
   "outputs": [],
   "source": [
    "#Day 1\n",
    "l = pd.read_csv('advent_day_input.csv',header=None)\n",
    "l = list(l.iloc[:,0])"
   ]
  },
  {
   "cell_type": "code",
   "execution_count": null,
   "metadata": {},
   "outputs": [],
   "source": [
    "def find_sum(l):\n",
    "    for i in range(len(l)):\n",
    "        for j in range(i+1, len(l)):\n",
    "            if l[i] + l[j] == 2020:\n",
    "                 return l[i] * l[j]\n"
   ]
  },
  {
   "cell_type": "code",
   "execution_count": null,
   "metadata": {},
   "outputs": [],
   "source": [
    "find_sum(l)"
   ]
  },
  {
   "cell_type": "code",
   "execution_count": null,
   "metadata": {},
   "outputs": [],
   "source": [
    "def find_sum_three(l):\n",
    "    for i in range(len(l)):\n",
    "        for j in range(i+1, len(l)):\n",
    "            for k in range(j+1, len(l)):\n",
    "                if l[i] + l[j] + l[k] == 2020:\n",
    "                     return l[i] * l[j] * l[k]"
   ]
  },
  {
   "cell_type": "code",
   "execution_count": null,
   "metadata": {},
   "outputs": [],
   "source": [
    "find_sum_three(l)"
   ]
  },
  {
   "cell_type": "code",
   "execution_count": null,
   "metadata": {},
   "outputs": [],
   "source": [
    "#Day 2\n",
    "passwords = pd.read_csv('advent_of_code_day2.csv',header=None)"
   ]
  },
  {
   "cell_type": "code",
   "execution_count": null,
   "metadata": {},
   "outputs": [],
   "source": [
    "def valid_password(lop):\n",
    "    num_valid = 0\n",
    "    for i in range(len(lop)):\n",
    "        min_use = int(lop.loc[i][0].split('-')[0])\n",
    "        max_use = int(lop.loc[i][0].split('-')[1].split(' ')[0])\n",
    "        letter = lop.loc[i][0].split('-')[1].split(' ')[1][0]\n",
    "        password = lop.loc[i][0].split(' ')[2]\n",
    "        if password.count(letter) >= min_use and password.count(letter) <= max_use:\n",
    "            num_valid += 1\n",
    "    return num_valid\n",
    "        "
   ]
  },
  {
   "cell_type": "code",
   "execution_count": null,
   "metadata": {},
   "outputs": [],
   "source": [
    "valid_password(passwords)"
   ]
  },
  {
   "cell_type": "code",
   "execution_count": null,
   "metadata": {},
   "outputs": [],
   "source": [
    "def valid_password2(lop):\n",
    "    num_valid = 0\n",
    "    for i in range(len(lop)):\n",
    "        first_position = int(lop.loc[i][0].split('-')[0])\n",
    "        second_position = int(lop.loc[i][0].split('-')[1].split(' ')[0])\n",
    "        letter = lop.loc[i][0].split('-')[1].split(' ')[1][0]\n",
    "        password = lop.loc[i][0].split(' ')[2]\n",
    "        if (password[first_position - 1] == letter) & (password[second_position - 1] != letter) or (password[second_position - 1] == letter) & (password[first_position - 1] != letter):\n",
    "            num_valid += 1\n",
    "                \n",
    "    return num_valid"
   ]
  },
  {
   "cell_type": "code",
   "execution_count": null,
   "metadata": {},
   "outputs": [],
   "source": [
    "valid_password2(passwords)"
   ]
  },
  {
   "cell_type": "code",
   "execution_count": null,
   "metadata": {},
   "outputs": [],
   "source": [
    "#Day 3\n",
    "slopes = pd.read_csv('advent_of_code_day3.csv',header=None)"
   ]
  },
  {
   "cell_type": "code",
   "execution_count": null,
   "metadata": {},
   "outputs": [],
   "source": [
    "def sled(slope, dx, dy):\n",
    "    x=0\n",
    "    y=0\n",
    "    crashes = 0\n",
    "    while x < len(slope):\n",
    "        row = slope[0][x]\n",
    "        col = row[y]\n",
    "        if col == '#':\n",
    "            crashes += 1\n",
    "        x += dx\n",
    "        y += dy\n",
    "        y = y % len(row)\n",
    "            \n",
    "    return crashes"
   ]
  },
  {
   "cell_type": "code",
   "execution_count": null,
   "metadata": {},
   "outputs": [],
   "source": [
    "sled(slopes, 1, 3)"
   ]
  },
  {
   "cell_type": "code",
   "execution_count": null,
   "metadata": {},
   "outputs": [],
   "source": [
    "(sled(slopes, 1, 1) * sled(slopes, 1, 3) * sled(slopes, 1, 5) * sled(slopes, 1, 7) * sled(slopes, 2, 1))"
   ]
  },
  {
   "cell_type": "code",
   "execution_count": null,
   "metadata": {},
   "outputs": [],
   "source": [
    "#Day 4\n",
    "passports = []\n",
    "curr_passport = ''\n",
    "#get the number of lines in the file...has to be a be a better way\n",
    "with open('advent_of_code_day4.txt') as f:\n",
    "    for i, _ in enumerate(f):\n",
    "        n_lines = i\n",
    "with open('advent_of_code_day4.txt') as f:\n",
    "    for n, i in enumerate(f):\n",
    "        if len(i)> 2 and n < n_lines:\n",
    "            curr_passport += i\n",
    "        elif n == n_lines:\n",
    "            curr_passport += i\n",
    "            passports.append(curr_passport)\n",
    "        else:\n",
    "            passports.append(curr_passport)\n",
    "            curr_passport = ''\n",
    "\n",
    "for i in range(len(passports)):\n",
    "    passports[i] = passports[i].replace('\\n', ' ').rstrip()"
   ]
  },
  {
   "cell_type": "code",
   "execution_count": null,
   "metadata": {},
   "outputs": [],
   "source": [
    "def good_passport(lop):\n",
    "    num_passports = 0\n",
    "    l1 = ['byr', 'iyr', 'eyr', 'hgt', 'hcl', 'ecl', 'pid', 'cid']\n",
    "    l2 = ['byr', 'iyr', 'eyr', 'hgt', 'hcl', 'ecl', 'pid']\n",
    "    for i in lop:\n",
    "        num_fields = 0\n",
    "        for j in i.split(' '):\n",
    "            for k in l2:\n",
    "                if k in j:\n",
    "                    num_fields += 1\n",
    "        if num_fields >= 7:\n",
    "            num_passports += 1\n",
    "    return num_passports"
   ]
  },
  {
   "cell_type": "code",
   "execution_count": null,
   "metadata": {},
   "outputs": [],
   "source": [
    "good_passport(passports)"
   ]
  },
  {
   "cell_type": "code",
   "execution_count": null,
   "metadata": {},
   "outputs": [],
   "source": [
    "#helper function to test if the values of the the fields pass\n",
    "def is_valid_field(field):\n",
    "    key = field.split(':')[0]\n",
    "    val = field.split(':')[1]\n",
    "    if key == 'byr':\n",
    "        if len(val) == 4 and int(val) >= 1920 and int(val) <= 2002:\n",
    "            return True\n",
    "    elif key == 'iyr':\n",
    "        if len(val) == 4 and int(val) >= 2010 and int(val) <= 2020:\n",
    "            return True\n",
    "    elif key == 'eyr':\n",
    "        if len(val) == 4 and int(val) >= 2020 and int(val) <= 2030:\n",
    "            return True\n",
    "    elif key == 'hgt':\n",
    "        if re.search(\"[0-9]+cm\", val):\n",
    "            x = re.findall(\"[0-9]+\", val) \n",
    "            if  int(x[0]) >= 150 and int(x[0]) <= 193:\n",
    "                return True\n",
    "        elif re.search(\"[0-9]+in\", val):\n",
    "            x = re.findall(\"[0-9]+\", val) \n",
    "            if  int(x[0]) >= 59 and int(x[0]) <= 76:\n",
    "                return True\n",
    "    elif key == 'hcl':\n",
    "        if re.search(\"^#[a-zA-Z0-9]{6}$\", val):\n",
    "            return True\n",
    "    elif key == 'ecl' and val in ['amb', 'blu', 'brn', 'gry', 'grn', 'hzl', 'oth']:\n",
    "        return True\n",
    "    elif key =='pid' and re.search(\"^[0-9]{9}$\", val):\n",
    "        return True\n",
    "        "
   ]
  },
  {
   "cell_type": "code",
   "execution_count": null,
   "metadata": {},
   "outputs": [],
   "source": [
    "def good_passport2(lop):\n",
    "    num_passports = 0\n",
    "    l1 = ['byr', 'iyr', 'eyr', 'hgt', 'hcl', 'ecl', 'pid', 'cid']\n",
    "    l2 = ['byr', 'iyr', 'eyr', 'hgt', 'hcl', 'ecl', 'pid']\n",
    "    for i in lop:\n",
    "        num_fields = 0\n",
    "        for j in i.split(' '):\n",
    "            for k in l2:\n",
    "                if k in j and is_valid_field(j):\n",
    "                    num_fields += 1\n",
    "        if num_fields >= 7:\n",
    "            num_passports += 1\n",
    "        #if len(i.split(' ')) == 8 :\n",
    "         #   num_passports += 1\n",
    "          #  print(i)\n",
    "        #elif len(i.split(' ')) == 7 and any('cid' not in j for j in i):\n",
    "         #   num_passports += 1\n",
    "          #  print(i)\n",
    "    return num_passports"
   ]
  },
  {
   "cell_type": "code",
   "execution_count": null,
   "metadata": {},
   "outputs": [],
   "source": [
    "good_passport2(passports)"
   ]
  },
  {
   "cell_type": "code",
   "execution_count": null,
   "metadata": {},
   "outputs": [],
   "source": [
    "#Day 5\n",
    "tickets = pd.read_csv('advent_of_code_day5.csv',header=None)\n",
    "s = 'FBFBBFFRLR'\n",
    "def get_seat(ticket, nrows=127):\n",
    "    #get the row\n",
    "    ubound = nrows\n",
    "    lbound = 0\n",
    "    for i in range(0,6):\n",
    "        if ticket[i] == 'F':\n",
    "            ubound = math.floor((ubound + lbound)/2)\n",
    "        else:\n",
    "            lbound = math.ceil((ubound + lbound)/2)\n",
    "    if ticket[6] == 'F':\n",
    "        row = lbound\n",
    "    else:\n",
    "        row = ubound\n",
    "    ubound = 7\n",
    "    lbound = 0\n",
    "    for i in range(7,10):\n",
    "        if ticket[i] == 'L':\n",
    "            ubound = math.floor((ubound + lbound)/2)\n",
    "        else:\n",
    "            lbound = math.ceil((ubound + lbound)/2)\n",
    "    if ticket[9] == 'L':\n",
    "        seat = lbound\n",
    "    else:\n",
    "        seat = ubound\n",
    "\n",
    "    return row * 8 + seat\n",
    "    \n",
    "get_seat(s)    \n",
    "        "
   ]
  },
  {
   "cell_type": "code",
   "execution_count": null,
   "metadata": {},
   "outputs": [],
   "source": [
    "n = 0\n",
    "for i in list(tickets[0]):\n",
    "    n = max(get_seat(i), n)\n",
    "n"
   ]
  },
  {
   "cell_type": "code",
   "execution_count": null,
   "metadata": {},
   "outputs": [],
   "source": [
    "#part two find the missing seat\n",
    "#create an empty matrix the size of the plane\n",
    "mat = np.zeros((127,8))"
   ]
  },
  {
   "cell_type": "code",
   "execution_count": null,
   "metadata": {},
   "outputs": [],
   "source": [
    "def get_seat2(ticket, nrows=127):\n",
    "    #get the row\n",
    "    ubound = nrows\n",
    "    lbound = 0\n",
    "    for i in range(0,6):\n",
    "        if ticket[i] == 'F':\n",
    "            ubound = math.floor((ubound + lbound)/2)\n",
    "        else:\n",
    "            lbound = math.ceil((ubound + lbound)/2)\n",
    "    if ticket[6] == 'F':\n",
    "        row = lbound\n",
    "    else:\n",
    "        row = ubound\n",
    "    ubound = 7\n",
    "    lbound = 0\n",
    "    for i in range(7,10):\n",
    "        if ticket[i] == 'L':\n",
    "            ubound = math.floor((ubound + lbound)/2)\n",
    "        else:\n",
    "            lbound = math.ceil((ubound + lbound)/2)\n",
    "    if ticket[9] == 'L':\n",
    "        seat = lbound\n",
    "    else:\n",
    "        seat = ubound\n",
    "\n",
    "    return row, seat\n",
    "    \n",
    "get_seat2(s) "
   ]
  },
  {
   "cell_type": "code",
   "execution_count": null,
   "metadata": {},
   "outputs": [],
   "source": [
    "for i in list(tickets[0]):\n",
    "    x, y = get_seat2(i)\n",
    "    mat[x,y] = 1"
   ]
  },
  {
   "cell_type": "code",
   "execution_count": null,
   "metadata": {},
   "outputs": [],
   "source": [
    "x,y = 1,1\n",
    "mat[x,y] = 2"
   ]
  },
  {
   "cell_type": "code",
   "execution_count": null,
   "metadata": {},
   "outputs": [],
   "source": [
    "x = mat.ravel()"
   ]
  },
  {
   "cell_type": "code",
   "execution_count": null,
   "metadata": {},
   "outputs": [],
   "source": [
    "print(x)\n",
    "for i in range(len(x)):\n",
    "    if x[i-1] == 1.0 and x[i+1] == 1.0 and x[i] == 0:\n",
    "        x[i] = 5"
   ]
  },
  {
   "cell_type": "code",
   "execution_count": null,
   "metadata": {},
   "outputs": [],
   "source": [
    "mat = x.reshape(127,8)"
   ]
  },
  {
   "cell_type": "code",
   "execution_count": null,
   "metadata": {},
   "outputs": [],
   "source": [
    "np.where(mat == 5)"
   ]
  },
  {
   "cell_type": "code",
   "execution_count": null,
   "metadata": {},
   "outputs": [],
   "source": [
    "#day 6 \n",
    "forms = []\n",
    "curr_group = ''\n",
    "#get the number of lines in the file...has to be a be a better way\n",
    "with open('advent_of_code_day6.txt') as f:\n",
    "    for i, _ in enumerate(f):\n",
    "        n_lines = i\n",
    "with open('advent_of_code_day6.txt') as f:\n",
    "    for n, i in enumerate(f):\n",
    "        if len(i)> 1 and n < n_lines:\n",
    "            curr_group += i\n",
    "        elif n == n_lines:\n",
    "            curr_group += i\n",
    "            forms.append(curr_group)\n",
    "        else:\n",
    "            forms.append(curr_group)\n",
    "            curr_group = ''\n",
    "\n",
    "for i in range(len(forms)):\n",
    "    forms[i] = forms[i].replace('\\n', ' ').rstrip()"
   ]
  },
  {
   "cell_type": "code",
   "execution_count": null,
   "metadata": {},
   "outputs": [],
   "source": [
    "#part 1, number of questions answered yes to\n",
    "n = 0\n",
    "for i in forms:\n",
    "    print(i)\n",
    "    n += len(set(i.replace(' ', '')))\n",
    "n"
   ]
  },
  {
   "cell_type": "code",
   "execution_count": null,
   "metadata": {},
   "outputs": [],
   "source": [
    "#part two, number of questions everyone answered yes to\n",
    "n = 0\n",
    "for i in forms:\n",
    "    answers = set(i.replace(' ', ''))\n",
    "    group_size = len(i.split(' '))\n",
    "    for j in answers:\n",
    "        if i.count(j) == group_size:\n",
    "            n+=1\n",
    "n"
   ]
  },
  {
   "cell_type": "code",
   "execution_count": null,
   "metadata": {},
   "outputs": [],
   "source": [
    "#Day 7\n",
    "bags = pd.read_csv('advent_of_code_day7.csv',header=None)\n",
    "bags = list(bags[0])"
   ]
  },
  {
   "cell_type": "code",
   "execution_count": null,
   "metadata": {},
   "outputs": [],
   "source": [
    "b = bags"
   ]
  },
  {
   "cell_type": "code",
   "execution_count": null,
   "metadata": {},
   "outputs": [],
   "source": [
    "graph = {}\n",
    "for i in b:\n",
    "    x,y  = i.split('bags contain')\n",
    "    y = y.replace('bags', '')\n",
    "    y = y.replace('bag', '')\n",
    "    y = y.replace('.', '')\n",
    "    x = x.rstrip(' ')\n",
    "    y = y.rstrip(' ')\n",
    "    y = y.lstrip(' ')\n",
    "    list_of_bags = y.split(' , ')\n",
    "    dict_of_bags = {}\n",
    "    for j in list_of_bags:\n",
    "        dict_of_bags.update({j[2:] : j[0]})\n",
    "    graph.update({x : dict_of_bags})\n"
   ]
  },
  {
   "cell_type": "code",
   "execution_count": null,
   "metadata": {},
   "outputs": [],
   "source": [
    "#while len(next_level) > 0:\n",
    "def check_paths(next_level, curr_level, n):\n",
    "    num_options = n\n",
    "    for bag in curr_level:\n",
    "        for i in graph:\n",
    "            if bag in graph[i]:\n",
    "                next_level.append(i)\n",
    "                num_options.append(i)\n",
    "    if len(next_level) == 0:\n",
    "        print(len(set(num_options)))\n",
    "    else:\n",
    "        check_paths([], next_level, num_options)"
   ]
  },
  {
   "cell_type": "code",
   "execution_count": null,
   "metadata": {},
   "outputs": [],
   "source": [
    "x = check_paths([], ['shiny gold'],[])\n",
    "x"
   ]
  },
  {
   "cell_type": "code",
   "execution_count": null,
   "metadata": {},
   "outputs": [],
   "source": [
    "#while len(next_level) > 0:\n",
    "def check_paths2(next_level, curr_level, n=0):\n",
    "    num_options = n\n",
    "    for bag in curr_level:\n",
    "        if bag in graph.keys():\n",
    "            for i in graph[bag]:\n",
    "                #print(graph[bag][i])\n",
    "                next_level += [i] * int(graph[bag][i])\n",
    "                num_options += int(graph[bag][i])\n",
    "    if len(next_level) == 0:\n",
    "        print(num_options)\n",
    "        print('done')\n",
    "    else:\n",
    "        check_paths2([], next_level, num_options)"
   ]
  },
  {
   "cell_type": "code",
   "execution_count": null,
   "metadata": {},
   "outputs": [],
   "source": [
    "x = check_paths2([], ['shiny gold'],0)\n",
    "x"
   ]
  },
  {
   "cell_type": "code",
   "execution_count": null,
   "metadata": {},
   "outputs": [],
   "source": [
    "#Day 8\n",
    "cmds = pd.read_csv('advent_of_code_day8.csv',header=None)\n",
    "cmds = list(cmds[0])"
   ]
  },
  {
   "cell_type": "code",
   "execution_count": null,
   "metadata": {},
   "outputs": [],
   "source": [
    "#part 1\n",
    "acc = 0\n",
    "idxs = []\n",
    "idx = 0\n",
    "while idx not in idxs:\n",
    "    idxs.append(idx)\n",
    "    cmd, val = cmds[idx].split(' ')\n",
    "    if cmd == 'acc':\n",
    "        acc += int(val)\n",
    "        idx += 1\n",
    "    elif cmd == 'jmp':\n",
    "        idx += int(val)\n",
    "    else:\n",
    "        idx += 1\n",
    "print(acc)\n",
    "    "
   ]
  },
  {
   "cell_type": "code",
   "execution_count": null,
   "metadata": {},
   "outputs": [],
   "source": [
    "#part 2\n",
    "for i in range(len(cmds)):\n",
    "    acc = 0\n",
    "    idxs = []\n",
    "    idx = 0\n",
    "    try:\n",
    "        cmds2 = pd.read_csv('advent_of_code_day8.csv',header=None)\n",
    "        cmds2 = list(cmds2[0])\n",
    "        if cmds2[i].split(' ')[0] == 'jmp':\n",
    "            cmds2[i] = 'nop +0'\n",
    "            while idx not in idxs or idx > len(cmds2):\n",
    "                idxs.append(idx)\n",
    "                cmd, val = cmds2[idx].split(' ')\n",
    "                if idx > len(cmds2):\n",
    "                    print(acc)\n",
    "                elif cmd == 'acc':\n",
    "                    acc += int(val)\n",
    "                    idx += 1\n",
    "                elif cmd == 'jmp':\n",
    "                    idx += int(val)\n",
    "                else:\n",
    "                    idx += 1\n",
    "        elif cmds2[i].split(' ')[0] == 'nop':\n",
    "            cmds2[i] = 'jmp ' + cmds2[i].split(' ')[1]\n",
    "            while idx not in idxs or idx > len(cmds2):\n",
    "                idxs.append(idx)\n",
    "                cmd, val = cmds2[idx].split(' ')\n",
    "                if idx > len(cmds2):\n",
    "                    print(acc)\n",
    "                elif cmd == 'acc':\n",
    "                    acc += int(val)\n",
    "                    idx += 1\n",
    "                elif cmd == 'jmp':\n",
    "                    idx += int(val)\n",
    "                else:\n",
    "                    idx += 1\n",
    "        else:\n",
    "            while idx not in idxs or idx > len(cmds2):\n",
    "                idxs.append(idx)\n",
    "                cmd, val = cmds2[idx].split(' ')\n",
    "                if idx > len(cmds2):\n",
    "                    print(acc)\n",
    "                elif cmd == 'acc':\n",
    "                    acc += int(val)\n",
    "                    idx += 1\n",
    "                elif cmd == 'jmp':\n",
    "                    idx += int(val)\n",
    "                else:\n",
    "                    idx += 1\n",
    "    except:\n",
    "        print(acc)\n"
   ]
  },
  {
   "cell_type": "code",
   "execution_count": null,
   "metadata": {},
   "outputs": [],
   "source": [
    "#Day 9\n",
    "nums = pd.read_csv('advent_of_code_day9.csv',header=None).astype(int)\n",
    "nums = list(nums[0])"
   ]
  },
  {
   "cell_type": "code",
   "execution_count": null,
   "metadata": {},
   "outputs": [],
   "source": [
    "#part 1\n",
    "l = nums[:24]\n",
    "s = nums[25:27]\n",
    "\n",
    "for j in range(25,len(nums)):\n",
    "    is_valid = []\n",
    "    for i in range(j-26,j-1):\n",
    "        if nums[j] - nums[i] in (nums[:i-1] + nums[i+1:]):\n",
    "            is_valid.append(1)\n",
    "        else:\n",
    "            is_valid.append(0)\n",
    "    if max(is_valid) == 0:\n",
    "        print(nums[j])\n",
    "        print(j)\n",
    "        break\n",
    "    "
   ]
  },
  {
   "cell_type": "code",
   "execution_count": null,
   "metadata": {},
   "outputs": [],
   "source": [
    "#part 2\n",
    "for rng in range(2,20):\n",
    "    for i in range(572):\n",
    "        #print(nums[i], nums[i+rng])\n",
    "        #print(nums[i:i+rng])\n",
    "        if sum(nums[i:i+rng]) == 138879426:\n",
    "            print(min(nums[i:i+rng]) + max(nums[i:i+rng]))\n",
    "            break"
   ]
  }
 ],
 "metadata": {
  "kernelspec": {
   "display_name": "Python 3",
   "language": "python",
   "name": "python3"
  },
  "language_info": {
   "codemirror_mode": {
    "name": "ipython",
    "version": 3
   },
   "file_extension": ".py",
   "mimetype": "text/x-python",
   "name": "python",
   "nbconvert_exporter": "python",
   "pygments_lexer": "ipython3",
   "version": "3.7.7"
  }
 },
 "nbformat": 4,
 "nbformat_minor": 2
}
